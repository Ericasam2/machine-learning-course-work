{
 "cells": [
  {
   "cell_type": "code",
   "execution_count": 11,
   "metadata": {
    "ExecuteTime": {
     "end_time": "2021-05-10T08:22:53.686436Z",
     "start_time": "2021-05-10T08:22:47.088910Z"
    },
    "scrolled": false
   },
   "outputs": [
    {
     "data": {
      "text/html": [
       "<div>\n",
       "<style scoped>\n",
       "    .dataframe tbody tr th:only-of-type {\n",
       "        vertical-align: middle;\n",
       "    }\n",
       "\n",
       "    .dataframe tbody tr th {\n",
       "        vertical-align: top;\n",
       "    }\n",
       "\n",
       "    .dataframe thead th {\n",
       "        text-align: right;\n",
       "    }\n",
       "</style>\n",
       "<table border=\"1\" class=\"dataframe\">\n",
       "  <thead>\n",
       "    <tr style=\"text-align: right;\">\n",
       "      <th></th>\n",
       "      <th>reviewerID</th>\n",
       "      <th>asin</th>\n",
       "      <th>reviewerName</th>\n",
       "      <th>helpful</th>\n",
       "      <th>reviewText</th>\n",
       "      <th>overall</th>\n",
       "      <th>summary</th>\n",
       "      <th>unixReviewTime</th>\n",
       "      <th>reviewTime</th>\n",
       "    </tr>\n",
       "  </thead>\n",
       "  <tbody>\n",
       "    <tr>\n",
       "      <th>0</th>\n",
       "      <td>A3EBHHCZO6V2A4</td>\n",
       "      <td>5555991584</td>\n",
       "      <td>Amaranth \"music fan\"</td>\n",
       "      <td>[3, 3]</td>\n",
       "      <td>It's hard to believe \"Memory of Trees\" came ou...</td>\n",
       "      <td>5.0</td>\n",
       "      <td>Enya's last great album</td>\n",
       "      <td>1158019200</td>\n",
       "      <td>09 12, 2006</td>\n",
       "    </tr>\n",
       "    <tr>\n",
       "      <th>1</th>\n",
       "      <td>AZPWAXJG9OJXV</td>\n",
       "      <td>5555991584</td>\n",
       "      <td>bethtexas</td>\n",
       "      <td>[0, 0]</td>\n",
       "      <td>A clasically-styled and introverted album, Mem...</td>\n",
       "      <td>5.0</td>\n",
       "      <td>Enya at her most elegant</td>\n",
       "      <td>991526400</td>\n",
       "      <td>06 3, 2001</td>\n",
       "    </tr>\n",
       "    <tr>\n",
       "      <th>2</th>\n",
       "      <td>A38IRL0X2T4DPF</td>\n",
       "      <td>5555991584</td>\n",
       "      <td>bob turnley</td>\n",
       "      <td>[2, 2]</td>\n",
       "      <td>I never thought Enya would reach the sublime h...</td>\n",
       "      <td>5.0</td>\n",
       "      <td>The best so far</td>\n",
       "      <td>1058140800</td>\n",
       "      <td>07 14, 2003</td>\n",
       "    </tr>\n",
       "    <tr>\n",
       "      <th>3</th>\n",
       "      <td>A22IK3I6U76GX0</td>\n",
       "      <td>5555991584</td>\n",
       "      <td>Calle</td>\n",
       "      <td>[1, 1]</td>\n",
       "      <td>This is the third review of an irish album I w...</td>\n",
       "      <td>5.0</td>\n",
       "      <td>Ireland produces good music.</td>\n",
       "      <td>957312000</td>\n",
       "      <td>05 3, 2000</td>\n",
       "    </tr>\n",
       "    <tr>\n",
       "      <th>4</th>\n",
       "      <td>A1AISPOIIHTHXX</td>\n",
       "      <td>5555991584</td>\n",
       "      <td>Cloud \"...\"</td>\n",
       "      <td>[1, 1]</td>\n",
       "      <td>Enya, despite being a successful recording art...</td>\n",
       "      <td>4.0</td>\n",
       "      <td>4.5; music to dream to</td>\n",
       "      <td>1200528000</td>\n",
       "      <td>01 17, 2008</td>\n",
       "    </tr>\n",
       "  </tbody>\n",
       "</table>\n",
       "</div>"
      ],
      "text/plain": [
       "       reviewerID        asin          reviewerName helpful  \\\n",
       "0  A3EBHHCZO6V2A4  5555991584  Amaranth \"music fan\"  [3, 3]   \n",
       "1   AZPWAXJG9OJXV  5555991584             bethtexas  [0, 0]   \n",
       "2  A38IRL0X2T4DPF  5555991584           bob turnley  [2, 2]   \n",
       "3  A22IK3I6U76GX0  5555991584                 Calle  [1, 1]   \n",
       "4  A1AISPOIIHTHXX  5555991584           Cloud \"...\"  [1, 1]   \n",
       "\n",
       "                                          reviewText  overall  \\\n",
       "0  It's hard to believe \"Memory of Trees\" came ou...      5.0   \n",
       "1  A clasically-styled and introverted album, Mem...      5.0   \n",
       "2  I never thought Enya would reach the sublime h...      5.0   \n",
       "3  This is the third review of an irish album I w...      5.0   \n",
       "4  Enya, despite being a successful recording art...      4.0   \n",
       "\n",
       "                        summary  unixReviewTime   reviewTime  \n",
       "0       Enya's last great album      1158019200  09 12, 2006  \n",
       "1      Enya at her most elegant       991526400   06 3, 2001  \n",
       "2               The best so far      1058140800  07 14, 2003  \n",
       "3  Ireland produces good music.       957312000   05 3, 2000  \n",
       "4        4.5; music to dream to      1200528000  01 17, 2008  "
      ]
     },
     "execution_count": 11,
     "metadata": {},
     "output_type": "execute_result"
    }
   ],
   "source": [
    "import pandas as pd\n",
    "import gzip\n",
    "\n",
    "def parse(path):\n",
    "    g = gzip.open(path, 'rb')\n",
    "    for l in g:\n",
    "        yield eval(l)\n",
    "\n",
    "def getDF(path):\n",
    "    i = 0\n",
    "    df = {}\n",
    "    for d in parse(path):\n",
    "        df[i] = d\n",
    "        i += 1\n",
    "    return pd.DataFrame.from_dict(df, orient='index')\n",
    "\n",
    "df = getDF('reviews_Digital_Music_5.json.gz')\n",
    "df.head()"
   ]
  },
  {
   "cell_type": "code",
   "execution_count": 12,
   "metadata": {
    "ExecuteTime": {
     "end_time": "2021-05-10T08:22:53.826764Z",
     "start_time": "2021-05-10T08:22:53.691868Z"
    }
   },
   "outputs": [
    {
     "data": {
      "text/plain": [
       "<bound method DataFrame.info of            reviewerID        asin                 reviewerName helpful  \\\n",
       "0      A3EBHHCZO6V2A4  5555991584         Amaranth \"music fan\"  [3, 3]   \n",
       "1       AZPWAXJG9OJXV  5555991584                    bethtexas  [0, 0]   \n",
       "2      A38IRL0X2T4DPF  5555991584                  bob turnley  [2, 2]   \n",
       "3      A22IK3I6U76GX0  5555991584                        Calle  [1, 1]   \n",
       "4      A1AISPOIIHTHXX  5555991584                  Cloud \"...\"  [1, 1]   \n",
       "...               ...         ...                          ...     ...   \n",
       "64701  A1PQ1PESSO8CMO  B00KILDVEI             Ginger Christmas  [0, 0]   \n",
       "64702  A120RH58WVY4W6  B00KILDVEI  Kelly Dunwell \"avid reader\"  [0, 0]   \n",
       "64703  A19VJ2IQLO50G0  B00KILDVEI                      melinda  [0, 1]   \n",
       "64704   AUDSM2CTLLW1Q  B00KILDVEI           Patrick L. Randall  [0, 0]   \n",
       "64705  A1GN8UJIZLCA59  B00KILDVEI                     P Magnum  [1, 2]   \n",
       "\n",
       "                                              reviewText  overall  \\\n",
       "0      It's hard to believe \"Memory of Trees\" came ou...      5.0   \n",
       "1      A clasically-styled and introverted album, Mem...      5.0   \n",
       "2      I never thought Enya would reach the sublime h...      5.0   \n",
       "3      This is the third review of an irish album I w...      5.0   \n",
       "4      Enya, despite being a successful recording art...      4.0   \n",
       "...                                                  ...      ...   \n",
       "64701  I like the reggae sound a lot in this song. I ...      4.0   \n",
       "64702  I first heard this on Sirius and had to have i...      5.0   \n",
       "64703  I absolutely love this song, it downloaded fin...      5.0   \n",
       "64704  Reggae, island beats aren't really my cup of t...      3.0   \n",
       "64705  Magic! is a Canadian band that incorporates re...      1.0   \n",
       "\n",
       "                            summary  unixReviewTime   reviewTime  \n",
       "0           Enya's last great album      1158019200  09 12, 2006  \n",
       "1          Enya at her most elegant       991526400   06 3, 2001  \n",
       "2                   The best so far      1058140800  07 14, 2003  \n",
       "3      Ireland produces good music.       957312000   05 3, 2000  \n",
       "4            4.5; music to dream to      1200528000  01 17, 2008  \n",
       "...                             ...             ...          ...  \n",
       "64701                     Cool song      1403568000  06 24, 2014  \n",
       "64702                    Great Song      1404864000   07 9, 2014  \n",
       "64703                    Five Stars      1405209600  07 13, 2014  \n",
       "64704             Well-crafted song      1404864000   07 9, 2014  \n",
       "64705                Souless Reggae      1405641600  07 18, 2014  \n",
       "\n",
       "[64529 rows x 9 columns]>"
      ]
     },
     "execution_count": 12,
     "metadata": {},
     "output_type": "execute_result"
    }
   ],
   "source": [
    "df = df.dropna(axis=0,how = 'any')\n",
    "df.info"
   ]
  },
  {
   "cell_type": "code",
   "execution_count": 13,
   "metadata": {
    "ExecuteTime": {
     "end_time": "2021-05-10T08:22:55.974307Z",
     "start_time": "2021-05-10T08:22:53.830651Z"
    }
   },
   "outputs": [],
   "source": [
    "from sklearn.model_selection import train_test_split\n",
    "train,test = train_test_split(df, test_size=0.20,random_state=0)\n",
    "train.shape,test.shape\n",
    "train = train.reset_index(drop=True)\n",
    "test = test.reset_index(drop=True)"
   ]
  },
  {
   "cell_type": "code",
   "execution_count": 14,
   "metadata": {
    "ExecuteTime": {
     "end_time": "2021-05-10T08:22:56.036660Z",
     "start_time": "2021-05-10T08:22:55.976905Z"
    }
   },
   "outputs": [
    {
     "data": {
      "text/plain": [
       "0.0199363055707225"
      ]
     },
     "execution_count": 14,
     "metadata": {},
     "output_type": "execute_result"
    }
   ],
   "source": [
    "import numpy as np\n",
    "import math\n",
    "train['reviewText'][5]\n",
    "a,b = train['reviewerID'][:2]\n",
    "a_list,b_list = train[train['reviewerID']==a],train[train['reviewerID']==b]\n",
    "#x = [i for i in a_list['overall']]\n",
    "a_mean = np.mean([i for i in a_list['overall']]) \n",
    "b_mean = np.mean([i for i in b_list['overall']]) \n",
    "ab_merge = pd.merge(a_list,b_list,on=['asin'],how='inner')\n",
    "period =  len(ab_merge) / math.sqrt(len(a_list)*len(b_list))\n",
    "period"
   ]
  },
  {
   "cell_type": "code",
   "execution_count": 15,
   "metadata": {
    "ExecuteTime": {
     "end_time": "2021-05-10T08:23:02.880945Z",
     "start_time": "2021-05-10T08:22:56.038847Z"
    }
   },
   "outputs": [
    {
     "name": "stdout",
     "output_type": "stream",
     "text": [
      "5541\n",
      "3568\n"
     ]
    }
   ],
   "source": [
    "reviewers,products = [],[]\n",
    "reviewers.extend(i for i in train['reviewerID'] if i not in reviewers)\n",
    "print(len(reviewers)) #reviewer 数量\n",
    "products.extend(i for i in train['asin'] if i not in products)\n",
    "print(len(products)) #product 数量"
   ]
  },
  {
   "cell_type": "code",
   "execution_count": 16,
   "metadata": {
    "ExecuteTime": {
     "end_time": "2021-05-10T08:23:05.560003Z",
     "start_time": "2021-05-10T08:23:02.883938Z"
    },
    "scrolled": true
   },
   "outputs": [],
   "source": [
    "def user_similarity(train):\n",
    "    item_users = dict()\n",
    "    \n",
    "    for user,item in zip(train['reviewerID'],train['asin']):\n",
    "        if item not in item_users:\n",
    "            item_users[item] = set()\n",
    "        item_users[item].add(user)\n",
    "        \n",
    "    #稀疏矩阵C[u][v]= Nu Nv () ()\n",
    "    N = dict() #用户商品数量\n",
    "    C = {}     #稀疏矩阵\n",
    "    \n",
    "    for item,user in item_users.items():\n",
    "        for u in user:\n",
    "            if u not in N:\n",
    "                N[u] =0\n",
    "            N[u] += 1\n",
    "            for v in user:\n",
    "                if u == v:\n",
    "                    continue\n",
    "                if u not in C:\n",
    "                    C[u]={}\n",
    "                if v not in  C[u]:\n",
    "                    C[u][v]=0\n",
    "                C[u][v]+=1\n",
    "    #相似矩阵W\n",
    "    W = {}\n",
    "    for u,related_users in C.items():\n",
    "         for v, cuv in related_users.items():\n",
    "                \n",
    "                if u not in W:\n",
    "                    W[u]={}\n",
    "                if v not in  W[u]:\n",
    "                    W[u][v]=0\n",
    "                W[u][v] = cuv / math.sqrt(N[u] * N[v]) \n",
    "    \n",
    "    return W    \n",
    "    \n",
    "    \n",
    "W = user_similarity(train)"
   ]
  },
  {
   "cell_type": "code",
   "execution_count": 17,
   "metadata": {
    "ExecuteTime": {
     "end_time": "2021-05-10T08:23:05.637634Z",
     "start_time": "2021-05-10T08:23:05.562795Z"
    },
    "scrolled": false
   },
   "outputs": [
    {
     "data": {
      "text/plain": [
       "['B000051Y37',\n",
       " 'B00000G6HL',\n",
       " 'B000002KBB',\n",
       " 'B000000ORB',\n",
       " 'B007EM6FTW',\n",
       " 'B0000025WQ',\n",
       " 'B00000K5AI',\n",
       " 'B00000269M',\n",
       " 'B000002OPL',\n",
       " 'B000002L7G']"
      ]
     },
     "execution_count": 17,
     "metadata": {},
     "output_type": "execute_result"
    }
   ],
   "source": [
    "from operator import itemgetter\n",
    "def recommend (user,train,W,K):\n",
    "    rank = {}\n",
    "    interacted = train[train['reviewerID']==user]\n",
    "    interacted_items = [i for i in interacted['asin']]\n",
    "    for v, wuv in sorted(W[user].items(), key=itemgetter(1), reverse=True)[0:K]:   #选前K个相关用户\n",
    "        for i in train[train['reviewerID']==v]['asin']: #用户V用过的产品中\n",
    "            if i in interacted_items: \n",
    "                    continue\n",
    "            if i not in rank:\n",
    "                rank[i] = 0\n",
    "            rank[i] += wuv * 1 \n",
    "    return rank\n",
    "\n",
    "[i for i in recommend('A2XT5OR3AR1PU2',train,W,5).keys()][0:10]"
   ]
  },
  {
   "cell_type": "code",
   "execution_count": 18,
   "metadata": {
    "ExecuteTime": {
     "end_time": "2021-05-10T08:23:05.796405Z",
     "start_time": "2021-05-10T08:23:05.641255Z"
    }
   },
   "outputs": [],
   "source": [
    "## 平均值预测\n",
    "def PredictAll(records):\n",
    "    total,predict = {},{}\n",
    "    for user,vote in zip(train['reviewerID'],train['overall']):\n",
    "        if vote == 0.0:\n",
    "            continue\n",
    "        if user not in total:\n",
    "            total[user] = set()\n",
    "        total[user].add(vote)\n",
    "    \n",
    "    for i in total.keys(): \n",
    "        average = np.mean([i for i in total[i]])\n",
    "        if i not in predict:\n",
    "            predict[i] = set()\n",
    "        predict[i] = average \n",
    "    return predict\n",
    "\n",
    "predict = PredictAll(train)"
   ]
  },
  {
   "cell_type": "code",
   "execution_count": 19,
   "metadata": {
    "ExecuteTime": {
     "end_time": "2021-05-10T08:23:05.858972Z",
     "start_time": "2021-05-10T08:23:05.802389Z"
    }
   },
   "outputs": [
    {
     "name": "stdout",
     "output_type": "stream",
     "text": [
      "9834.937499999958 6989 4496\n"
     ]
    },
    {
     "data": {
      "text/plain": [
       "1.18625561725505"
      ]
     },
     "execution_count": 19,
     "metadata": {},
     "output_type": "execute_result"
    }
   ],
   "source": [
    "# RMSE\n",
    "def RMSE(test,predict):\n",
    "    total = {}\n",
    "    for user,vote in zip(test['reviewerID'],test['overall']):\n",
    "        if user not in total:\n",
    "            total[user] = set()\n",
    "        if vote != 0.0:\n",
    "            total[user].add(vote)\n",
    "    \n",
    "    sqrt = []\n",
    "    for i in total.keys():\n",
    "        if i not in predict :\n",
    "            continue\n",
    "        for vote in total[i]:\n",
    "            sqrt.append(pow(vote-predict[i],2))\n",
    "           \n",
    "    #print(sqrt)\n",
    "    final = sum(sqrt)\n",
    "    print(final,len(sqrt),len(total.keys()))\n",
    "    return math.sqrt(final/len(sqrt))\n",
    "\n",
    "RMSE(test,predict)"
   ]
  },
  {
   "cell_type": "code",
   "execution_count": 20,
   "metadata": {
    "ExecuteTime": {
     "end_time": "2021-05-10T08:23:06.564455Z",
     "start_time": "2021-05-10T08:23:05.862965Z"
    }
   },
   "outputs": [
    {
     "name": "stderr",
     "output_type": "stream",
     "text": [
      "<ipython-input-20-fbeff1bf68a8>:58: RuntimeWarning: invalid value encountered in double_scalars\n",
      "  W[u] = {x:y/math.sqrt(nu[x]*nu[u]) for x,y in W[u].items()}\n"
     ]
    }
   ],
   "source": [
    "import collections\n",
    "#d = collections.defaultdict(lambda :10)\n",
    "\n",
    "ave_vote = dict() #用户平均打分字典\n",
    "    \n",
    "for user,vote in zip(train['reviewerID'],train['overall']):\n",
    "    if user not in ave_vote:\n",
    "        ave_vote[user]=set()\n",
    "    ave_vote[user].add(vote)\n",
    "for i in ave_vote.keys():\n",
    "    ave_vote[i] = np.mean([t for t in ave_vote[i]])\n",
    "\n",
    "def UserSimilarity(train,ave_vote):\n",
    "    item_users = dict() #item 对应user打分的字典\n",
    "    \n",
    "    for user,item,vote in zip(train['reviewerID'],train['asin'],train['overall']):\n",
    "        if item not in item_users:\n",
    "            item_users[item] = dict()\n",
    "        if user not in item_users[item]:\n",
    "            item_users[item][user] = set()\n",
    "            \n",
    "        item_users[item][user].add(vote)\n",
    "        \n",
    "    \n",
    "    \n",
    "    \n",
    "    \n",
    "    #print(ave_vote[i])\n",
    "    nu = dict() # 用户和平均评分\n",
    "    W = dict() #相似度矩阵\n",
    "    \n",
    "    for i,ri in item_users.items(): #item 和item对应的用户\n",
    "        for u,rui in ri.items():  # user 和他们打的分\n",
    "            \n",
    "            if u not in nu:   #用户u和他的评分方差\n",
    "                nu[u] = 0.0\n",
    "            \n",
    "            for votes in rui:\n",
    "                nu[u] += (votes - ave_vote[u])*(votes - ave_vote[u])\n",
    "            \n",
    "\n",
    "            for v,rvi in ri.items(): #用户v和u的评分差的乘积\n",
    "                if u == v :\n",
    "                    continue\n",
    "                if u not in W:\n",
    "                    W[u] = dict()\n",
    "                    if v not in W[u]:\n",
    "                        W[u][v]= 0.0\n",
    "                else:\n",
    "                    continue\n",
    "                #print(v,rvi,rui,type(rui))\n",
    "\n",
    "\n",
    "                W[u][v] += abs((list(rui)[0] - ave_vote[u])*(list(rvi)[0] - ave_vote[v]))\n",
    "                #W[u][v] += (list(rui)[0] - ave_vote[u])*(list(rvi)[0] - ave_vote[v])\n",
    "                #addToMat(W, u, v, \\ (rui - ave_vote[u])*(rvi - ave_vote[v])) \n",
    "    for u in W:\n",
    "        W[u] = {x:y/math.sqrt(nu[x]*nu[u]) for x,y in W[u].items()}\n",
    "                \n",
    "    return W\n",
    "                \n",
    "\n",
    "\n",
    "\n",
    "user_similarity = UserSimilarity(train,ave_vote)"
   ]
  },
  {
   "cell_type": "code",
   "execution_count": 31,
   "metadata": {
    "ExecuteTime": {
     "end_time": "2021-05-10T08:38:03.517299Z",
     "start_time": "2021-05-10T08:38:03.494339Z"
    }
   },
   "outputs": [
    {
     "data": {
      "text/plain": [
       "[('A2T33U7BJ2517Z', 0.5393598899705937),\n",
       " ('A2F7UCDYPS7YBA', 0.4923659639173309),\n",
       " ('AL67ODRO833W9', 0.4558423058385518),\n",
       " ('A26BH1PFS1PKVS', 0.4558423058385518),\n",
       " ('A27MNKTRN5H7WF', 0.45226701686664544),\n",
       " ('A2M2SIFK6F3IDK', 0.45226701686664544),\n",
       " ('A1JS1BXDWD3CJI', 0.40451991747794525),\n",
       " ('A39MMTSRCSPCYZ', 0.40451991747794525),\n",
       " ('A3E2PIF7OHZEAX', 0.40451991747794525),\n",
       " ('AYDVB1OR3ILA5', 0.40451991747794525)]"
      ]
     },
     "execution_count": 31,
     "metadata": {},
     "output_type": "execute_result"
    }
   ],
   "source": [
    "[i for i in user_similarity.items()][0:10]\n",
    "sorted(W['A2QOI0S9Y457VW'].items(),  key=itemgetter(1), reverse=True)[0:10]"
   ]
  },
  {
   "cell_type": "code",
   "execution_count": 25,
   "metadata": {
    "ExecuteTime": {
     "end_time": "2021-05-10T08:34:47.769376Z",
     "start_time": "2021-05-10T08:34:17.615601Z"
    }
   },
   "outputs": [
    {
     "data": {
      "text/html": [
       "<div>\n",
       "<style scoped>\n",
       "    .dataframe tbody tr th:only-of-type {\n",
       "        vertical-align: middle;\n",
       "    }\n",
       "\n",
       "    .dataframe tbody tr th {\n",
       "        vertical-align: top;\n",
       "    }\n",
       "\n",
       "    .dataframe thead th {\n",
       "        text-align: right;\n",
       "    }\n",
       "</style>\n",
       "<table border=\"1\" class=\"dataframe\">\n",
       "  <thead>\n",
       "    <tr style=\"text-align: right;\">\n",
       "      <th></th>\n",
       "      <th>reviewerID</th>\n",
       "      <th>asin</th>\n",
       "      <th>reviewerName</th>\n",
       "      <th>helpful</th>\n",
       "      <th>reviewText</th>\n",
       "      <th>overall</th>\n",
       "      <th>summary</th>\n",
       "      <th>unixReviewTime</th>\n",
       "      <th>reviewTime</th>\n",
       "      <th>predict</th>\n",
       "    </tr>\n",
       "  </thead>\n",
       "  <tbody>\n",
       "    <tr>\n",
       "      <th>0</th>\n",
       "      <td>A8IFUOL8S9BZC</td>\n",
       "      <td>B000NA27TE</td>\n",
       "      <td>IRate</td>\n",
       "      <td>[1, 3]</td>\n",
       "      <td>3 1/2Though occasionally showing a nasty skele...</td>\n",
       "      <td>3.0</td>\n",
       "      <td>Collect this part</td>\n",
       "      <td>1270166400</td>\n",
       "      <td>04 2, 2010</td>\n",
       "      <td>4.500000</td>\n",
       "    </tr>\n",
       "    <tr>\n",
       "      <th>1</th>\n",
       "      <td>A1DAFWS98LQD2R</td>\n",
       "      <td>B00000163G</td>\n",
       "      <td>marriediimuzik \"ilovehousemuzik.\"</td>\n",
       "      <td>[1, 1]</td>\n",
       "      <td>I really don't know what to say about this rec...</td>\n",
       "      <td>5.0</td>\n",
       "      <td>CLASSIC.</td>\n",
       "      <td>1308960000</td>\n",
       "      <td>06 25, 2011</td>\n",
       "      <td>5.000000</td>\n",
       "    </tr>\n",
       "    <tr>\n",
       "      <th>2</th>\n",
       "      <td>A38TSW0CGV982H</td>\n",
       "      <td>B000BM6AVA</td>\n",
       "      <td>Charles Passantino \"Andy\"</td>\n",
       "      <td>[0, 2]</td>\n",
       "      <td>I just bought this album today, with Mezmerize...</td>\n",
       "      <td>5.0</td>\n",
       "      <td>Not bad, not bad at all</td>\n",
       "      <td>1133654400</td>\n",
       "      <td>12 4, 2005</td>\n",
       "      <td>3.500000</td>\n",
       "    </tr>\n",
       "    <tr>\n",
       "      <th>3</th>\n",
       "      <td>A2JV8PH4NGQPJ6</td>\n",
       "      <td>B000AL730O</td>\n",
       "      <td>Sir George Martini \"Verbalosity\"</td>\n",
       "      <td>[15, 17]</td>\n",
       "      <td>Paul McCartney never lost his talent for writi...</td>\n",
       "      <td>5.0</td>\n",
       "      <td>McCartney's Most Consistent Release</td>\n",
       "      <td>1128556800</td>\n",
       "      <td>10 6, 2005</td>\n",
       "      <td>4.000000</td>\n",
       "    </tr>\n",
       "    <tr>\n",
       "      <th>4</th>\n",
       "      <td>A3JULKQLVLWZV</td>\n",
       "      <td>B000000WCT</td>\n",
       "      <td>old_hyperbolic_squiggly</td>\n",
       "      <td>[1, 8]</td>\n",
       "      <td>I really enjoy 6 Underground and Spin Spin Sug...</td>\n",
       "      <td>2.0</td>\n",
       "      <td>so-so, disappointing, swanky, dry on music</td>\n",
       "      <td>984528000</td>\n",
       "      <td>03 14, 2001</td>\n",
       "      <td>3.333333</td>\n",
       "    </tr>\n",
       "    <tr>\n",
       "      <th>5</th>\n",
       "      <td>A1HIOSHOIZ03XP</td>\n",
       "      <td>B005F6NA56</td>\n",
       "      <td>Kayuga</td>\n",
       "      <td>[0, 0]</td>\n",
       "      <td>Not surprisingly, the lack of an itunes commer...</td>\n",
       "      <td>5.0</td>\n",
       "      <td>Its excellent!!!!!!!! so of course no one is l...</td>\n",
       "      <td>1322611200</td>\n",
       "      <td>11 30, 2011</td>\n",
       "      <td>4.000000</td>\n",
       "    </tr>\n",
       "    <tr>\n",
       "      <th>6</th>\n",
       "      <td>AWPT31A3YL590</td>\n",
       "      <td>B0000025RI</td>\n",
       "      <td>Dee Smalls!</td>\n",
       "      <td>[0, 1]</td>\n",
       "      <td>I love this album! I have this album a long ti...</td>\n",
       "      <td>5.0</td>\n",
       "      <td>MIchael Jackson! Love the album! Rest in peace!</td>\n",
       "      <td>1324944000</td>\n",
       "      <td>12 27, 2011</td>\n",
       "      <td>3.000000</td>\n",
       "    </tr>\n",
       "    <tr>\n",
       "      <th>7</th>\n",
       "      <td>A3UTAF0L13PTBW</td>\n",
       "      <td>B0001XARY0</td>\n",
       "      <td>Guylaine Le Ber</td>\n",
       "      <td>[0, 1]</td>\n",
       "      <td>It's a very cool album!  It has more in commun...</td>\n",
       "      <td>5.0</td>\n",
       "      <td>Right on kick drum</td>\n",
       "      <td>1119657600</td>\n",
       "      <td>06 25, 2005</td>\n",
       "      <td>2.500000</td>\n",
       "    </tr>\n",
       "    <tr>\n",
       "      <th>8</th>\n",
       "      <td>A2PV6GK1HV54Y9</td>\n",
       "      <td>B00008OWZE</td>\n",
       "      <td>ADRIENNE MILLER</td>\n",
       "      <td>[2, 5]</td>\n",
       "      <td>Jewel's 0304 is a drastic change from the folk...</td>\n",
       "      <td>4.0</td>\n",
       "      <td>\"Just give in to this sweet temptation...\"</td>\n",
       "      <td>1145491200</td>\n",
       "      <td>04 20, 2006</td>\n",
       "      <td>4.500000</td>\n",
       "    </tr>\n",
       "    <tr>\n",
       "      <th>9</th>\n",
       "      <td>A2QOI0S9Y457VW</td>\n",
       "      <td>B00004Z41Q</td>\n",
       "      <td>Clew \"Clew\"</td>\n",
       "      <td>[3, 4]</td>\n",
       "      <td>Yes, she's another pop queen.  No, she's not l...</td>\n",
       "      <td>5.0</td>\n",
       "      <td>Something very different</td>\n",
       "      <td>1005350400</td>\n",
       "      <td>11 10, 2001</td>\n",
       "      <td>3.000000</td>\n",
       "    </tr>\n",
       "  </tbody>\n",
       "</table>\n",
       "</div>"
      ],
      "text/plain": [
       "       reviewerID        asin                       reviewerName   helpful  \\\n",
       "0   A8IFUOL8S9BZC  B000NA27TE                              IRate    [1, 3]   \n",
       "1  A1DAFWS98LQD2R  B00000163G  marriediimuzik \"ilovehousemuzik.\"    [1, 1]   \n",
       "2  A38TSW0CGV982H  B000BM6AVA          Charles Passantino \"Andy\"    [0, 2]   \n",
       "3  A2JV8PH4NGQPJ6  B000AL730O   Sir George Martini \"Verbalosity\"  [15, 17]   \n",
       "4   A3JULKQLVLWZV  B000000WCT            old_hyperbolic_squiggly    [1, 8]   \n",
       "5  A1HIOSHOIZ03XP  B005F6NA56                             Kayuga    [0, 0]   \n",
       "6   AWPT31A3YL590  B0000025RI                        Dee Smalls!    [0, 1]   \n",
       "7  A3UTAF0L13PTBW  B0001XARY0                    Guylaine Le Ber    [0, 1]   \n",
       "8  A2PV6GK1HV54Y9  B00008OWZE                    ADRIENNE MILLER    [2, 5]   \n",
       "9  A2QOI0S9Y457VW  B00004Z41Q                        Clew \"Clew\"    [3, 4]   \n",
       "\n",
       "                                          reviewText  overall  \\\n",
       "0  3 1/2Though occasionally showing a nasty skele...      3.0   \n",
       "1  I really don't know what to say about this rec...      5.0   \n",
       "2  I just bought this album today, with Mezmerize...      5.0   \n",
       "3  Paul McCartney never lost his talent for writi...      5.0   \n",
       "4  I really enjoy 6 Underground and Spin Spin Sug...      2.0   \n",
       "5  Not surprisingly, the lack of an itunes commer...      5.0   \n",
       "6  I love this album! I have this album a long ti...      5.0   \n",
       "7  It's a very cool album!  It has more in commun...      5.0   \n",
       "8  Jewel's 0304 is a drastic change from the folk...      4.0   \n",
       "9  Yes, she's another pop queen.  No, she's not l...      5.0   \n",
       "\n",
       "                                             summary  unixReviewTime  \\\n",
       "0                                  Collect this part      1270166400   \n",
       "1                                           CLASSIC.      1308960000   \n",
       "2                            Not bad, not bad at all      1133654400   \n",
       "3                McCartney's Most Consistent Release      1128556800   \n",
       "4         so-so, disappointing, swanky, dry on music       984528000   \n",
       "5  Its excellent!!!!!!!! so of course no one is l...      1322611200   \n",
       "6    MIchael Jackson! Love the album! Rest in peace!      1324944000   \n",
       "7                                 Right on kick drum      1119657600   \n",
       "8         \"Just give in to this sweet temptation...\"      1145491200   \n",
       "9                           Something very different      1005350400   \n",
       "\n",
       "    reviewTime   predict  \n",
       "0   04 2, 2010  4.500000  \n",
       "1  06 25, 2011  5.000000  \n",
       "2   12 4, 2005  3.500000  \n",
       "3   10 6, 2005  4.000000  \n",
       "4  03 14, 2001  3.333333  \n",
       "5  11 30, 2011  4.000000  \n",
       "6  12 27, 2011  3.000000  \n",
       "7  06 25, 2005  2.500000  \n",
       "8  04 20, 2006  4.500000  \n",
       "9  11 10, 2001  3.000000  "
      ]
     },
     "execution_count": 25,
     "metadata": {},
     "output_type": "execute_result"
    }
   ],
   "source": [
    "def PredictAll(train, test, ave_vote, user_similarity, K):\n",
    "    users_item = dict() #item 对应user打分的字典\n",
    "    \n",
    "    for user,item,vote in zip(train['reviewerID'],train['asin'],train['overall']):\n",
    "        if user not in users_item:\n",
    "            users_item[user] = dict()\n",
    "        if item not in users_item[user]:\n",
    "            users_item[user][item] = set()\n",
    "            \n",
    "        users_item[user][item].add(vote)\n",
    "        \n",
    "    for user,item,vote in zip(test['reviewerID'],test['asin'],test['overall']):\n",
    "        predict = 0.0 #预测值\n",
    "        norm = 0.0 \n",
    "        lists = sorted(user_similarity[user].items(),  key=itemgetter(1), reverse=True)[0:K]\n",
    "        #print(lists[0:5])\n",
    "        for v,wuv in lists:\n",
    "            \n",
    "            \n",
    "            if item in users_item[v]:\n",
    "                rvi = users_item[v][item]\n",
    "                #print(rvi)\n",
    "                predict += wuv * (list(rvi)[0] - ave_vote[v]) \n",
    "                norm += abs(wuv) \n",
    "        if norm > 0:\n",
    "            predict /= norm\n",
    "        predict += ave_vote[user]\n",
    "        test.loc[test['asin']==item,'predict'] = predict\n",
    "    return test\n",
    "\n",
    "final_test = PredictAll(train, test, ave_vote, user_similarity, 5)\n",
    "final_test[0:10]"
   ]
  },
  {
   "cell_type": "code",
   "execution_count": 26,
   "metadata": {
    "ExecuteTime": {
     "end_time": "2021-05-10T08:34:47.817247Z",
     "start_time": "2021-05-10T08:34:47.772366Z"
    }
   },
   "outputs": [
    {
     "name": "stdout",
     "output_type": "stream",
     "text": [
      "21848.354166666566 12906 12757\n"
     ]
    },
    {
     "data": {
      "text/plain": [
       "1.308684883169165"
      ]
     },
     "execution_count": 26,
     "metadata": {},
     "output_type": "execute_result"
    }
   ],
   "source": [
    "def RMSE_US(test):\n",
    "    sqrt = 0\n",
    "    all = 0\n",
    "    for user,vote,predict in zip(test['reviewerID'],test['overall'],test['predict']):\n",
    "        #print(vote,predict)\n",
    "        if math.isnan(predict):\n",
    "            continue\n",
    "        else:\n",
    "            all+=1\n",
    "        sqrt += pow((vote-predict),2)\n",
    "        #print(sqrt,pow((vote-predict),2))\n",
    "    \n",
    "    print(sqrt,len(test),all)\n",
    "    return math.sqrt(sqrt/all)\n",
    "\n",
    "RMSE_US(final_test)"
   ]
  },
  {
   "cell_type": "code",
   "execution_count": null,
   "metadata": {},
   "outputs": [],
   "source": []
  }
 ],
 "metadata": {
  "kernelspec": {
   "display_name": "Python 3",
   "language": "python",
   "name": "python3"
  },
  "language_info": {
   "codemirror_mode": {
    "name": "ipython",
    "version": 3
   },
   "file_extension": ".py",
   "mimetype": "text/x-python",
   "name": "python",
   "nbconvert_exporter": "python",
   "pygments_lexer": "ipython3",
   "version": "3.8.0"
  },
  "toc": {
   "base_numbering": 1,
   "nav_menu": {},
   "number_sections": true,
   "sideBar": true,
   "skip_h1_title": false,
   "title_cell": "Table of Contents",
   "title_sidebar": "Contents",
   "toc_cell": false,
   "toc_position": {
    "height": "calc(100% - 180px)",
    "left": "10px",
    "top": "150px",
    "width": "165px"
   },
   "toc_section_display": true,
   "toc_window_display": false
  }
 },
 "nbformat": 4,
 "nbformat_minor": 4
}
